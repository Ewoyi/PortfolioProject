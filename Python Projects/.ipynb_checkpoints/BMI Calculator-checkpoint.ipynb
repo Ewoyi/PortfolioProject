{
 "cells": [
  {
   "cell_type": "markdown",
   "id": "5186f515",
   "metadata": {},
   "source": [
    "# How to build a BMI Calculator"
   ]
  },
  {
   "cell_type": "code",
   "execution_count": 17,
   "id": "569ae3ef",
   "metadata": {},
   "outputs": [
    {
     "name": "stdout",
     "output_type": "stream",
     "text": [
      "Enter your name: Ewoyi\n",
      "Enter your weight in pounds: 170\n",
      "Enter your height in inches: 69\n",
      "25.101869355177485\n",
      "Ewoyi, You are overweight\n"
     ]
    }
   ],
   "source": [
    "name = input(\"Enter your name: \")\n",
    "\n",
    "weight = int(input(\"Enter your weight in pounds: \"))\n",
    "\n",
    "height = int(input(\"Enter your height in inches: \"))\n",
    "\n",
    "BMI = (weight * 703) / (height * height)\n",
    "\n",
    "print(BMI)\n",
    "\n",
    "if BMI > 0:\n",
    "    if(BMI < 18.5):\n",
    "        print(name + \", You are underweight\")\n",
    "    elif(BMI <= 24.9):\n",
    "        print(name + \", You are normalweight\")\n",
    "    elif(BMI < 29.9):\n",
    "        print(name + \", You are overweight\")\n",
    "    elif(BMI < 34.9):\n",
    "        print(name + \", You are obese\")\n",
    "    elif(BMI < 39.9):\n",
    "        print(name + \", You are severely obese\")\n",
    "    else:\n",
    "        print(name + \", You are modibly obese\")"
   ]
  },
  {
   "cell_type": "code",
   "execution_count": null,
   "id": "a5a41629",
   "metadata": {},
   "outputs": [],
   "source": []
  },
  {
   "cell_type": "code",
   "execution_count": null,
   "id": "99bc392d",
   "metadata": {},
   "outputs": [],
   "source": []
  },
  {
   "cell_type": "code",
   "execution_count": null,
   "id": "7610b1e5",
   "metadata": {},
   "outputs": [],
   "source": []
  },
  {
   "cell_type": "code",
   "execution_count": null,
   "id": "e672984f",
   "metadata": {},
   "outputs": [],
   "source": []
  },
  {
   "cell_type": "code",
   "execution_count": null,
   "id": "debc85a0",
   "metadata": {},
   "outputs": [],
   "source": []
  },
  {
   "cell_type": "code",
   "execution_count": null,
   "id": "bdbf3332",
   "metadata": {},
   "outputs": [],
   "source": [
    "# BMI = (weight in pounds * 703) / (height in inches * height in inches)"
   ]
  },
  {
   "cell_type": "code",
   "execution_count": null,
   "id": "987d3800",
   "metadata": {},
   "outputs": [],
   "source": [
    "Under 18.5 ->Underweight - Minimal\n",
    "18.5 - 24.9 -> Normal Weight - Minimal\n",
    "25 - 29.9 -> Overweight - Increased\n",
    "30 - 34.9 -> Obese - High\n",
    "35 - 39.9 -> Severely Obese - Very High\n",
    "40 and over -> Mordidly Obese - Extremely high"
   ]
  },
  {
   "cell_type": "code",
   "execution_count": null,
   "id": "f9ade37f",
   "metadata": {},
   "outputs": [],
   "source": []
  }
 ],
 "metadata": {
  "kernelspec": {
   "display_name": "Python 3 (ipykernel)",
   "language": "python",
   "name": "python3"
  },
  "language_info": {
   "codemirror_mode": {
    "name": "ipython",
    "version": 3
   },
   "file_extension": ".py",
   "mimetype": "text/x-python",
   "name": "python",
   "nbconvert_exporter": "python",
   "pygments_lexer": "ipython3",
   "version": "3.10.9"
  }
 },
 "nbformat": 4,
 "nbformat_minor": 5
}
